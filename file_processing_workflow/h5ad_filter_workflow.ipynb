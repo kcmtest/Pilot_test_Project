{
 "cells": [
  {
   "cell_type": "code",
   "execution_count": 8,
   "metadata": {},
   "outputs": [
    {
     "data": {
      "application/vnd.jupyter.widget-view+json": {
       "model_id": "893a587af1e446ad9e5e499ec6ad32d1",
       "version_major": 2,
       "version_minor": 0
      },
      "text/plain": [
       "Text(value='', description='File_add:')"
      ]
     },
     "metadata": {},
     "output_type": "display_data"
    },
    {
     "data": {
      "application/vnd.jupyter.widget-view+json": {
       "model_id": "210702d5de894ce7ad7fa28316db724e",
       "version_major": 2,
       "version_minor": 0
      },
      "text/plain": [
       "IntText(value=0, description='Min_Genes:')"
      ]
     },
     "metadata": {},
     "output_type": "display_data"
    },
    {
     "data": {
      "application/vnd.jupyter.widget-view+json": {
       "model_id": "1a1c222d3b4e4c5992eb3a29e2495647",
       "version_major": 2,
       "version_minor": 0
      },
      "text/plain": [
       "IntText(value=0, description='Min_Cells:')"
      ]
     },
     "metadata": {},
     "output_type": "display_data"
    },
    {
     "data": {
      "application/vnd.jupyter.widget-view+json": {
       "model_id": "9c97feebc4f84c5bae4a926e76025b9e",
       "version_major": 2,
       "version_minor": 0
      },
      "text/plain": [
       "Button(description='Filter_Save', style=ButtonStyle())"
      ]
     },
     "metadata": {},
     "output_type": "display_data"
    },
    {
     "data": {
      "application/vnd.jupyter.widget-view+json": {
       "model_id": "8e81a12664d74c3882f47b39dc7ee575",
       "version_major": 2,
       "version_minor": 0
      },
      "text/plain": [
       "HTML(value='<p>Time passed away: 0 seconds</p>')"
      ]
     },
     "metadata": {},
     "output_type": "display_data"
    }
   ],
   "source": [
    "import scanpy as sc\n",
    "import numpy as np\n",
    "import pandas as pd\n",
    "import time\n",
    "from ipywidgets import interact, interactive, widgets\n",
    "from IPython.display import display, HTML\n",
    "\n",
    "def filter_and_save_h5ad(h5ad_file, min_genes, min_cells):\n",
    "    #  h5ad file read\n",
    "    adata = sc.read_h5ad(h5ad_file)\n",
    "\n",
    "    # cells and genes filter pararameter from user\n",
    "    sc.pp.filter_cells(adata, min_genes=min_genes)\n",
    "    sc.pp.filter_genes(adata, min_cells=min_cells)\n",
    "\n",
    "    # filtered dataset save\n",
    "    filtered_file = h5ad_file.replace('.h5ad', '_filtered.h5ad')\n",
    "    adata.write(filtered_file)\n",
    "\n",
    "    print(f\"Filtered dataset sent to {filtered_file}\")\n",
    "\n",
    "# input widgets\n",
    "h5ad_file_widget = widgets.Text(description='File_add:')\n",
    "min_genes_widget = widgets.IntText(description='Min_Genes:')\n",
    "min_cells_widget = widgets.IntText(description='Min_Cells:')\n",
    "button = widgets.Button(description='Filter_Save')\n",
    "\n",
    "# timer widget\n",
    "time_widget = widgets.HTML(value=\"<p>Time passed away: 0 seconds</p>\")\n",
    "\n",
    "def on_button_clicked(click_me):\n",
    "    h5ad_file = h5ad_file_widget.value.strip()\n",
    "    min_genes = min_genes_widget.value\n",
    "    min_cells = min_cells_widget.value\n",
    "    \n",
    "    # timer\n",
    "    start_time = time.time()\n",
    "    \n",
    "    filter_and_save_h5ad(h5ad_file, min_genes, min_cells)\n",
    "    \n",
    "    # Calculate and update the elapsed time\n",
    "    elapsed_time = time.time() - start_time\n",
    "    time_widget.value = f\"<p>Time passed away: {elapsed_time} seconds</p>\"\n",
    "\n",
    "button.on_click(on_button_clicked)\n",
    "\n",
    "# Display the widgets and button\n",
    "display(h5ad_file_widget, min_genes_widget, min_cells_widget, button, time_widget)\n"
   ]
  },
  {
   "cell_type": "code",
   "execution_count": 1,
   "metadata": {},
   "outputs": [
    {
     "data": {
      "application/vnd.jupyter.widget-view+json": {
       "model_id": "df349536b0da46a58c90672922f05484",
       "version_major": 2,
       "version_minor": 0
      },
      "text/plain": [
       "Text(value='', description='File_add:')"
      ]
     },
     "metadata": {},
     "output_type": "display_data"
    },
    {
     "data": {
      "application/vnd.jupyter.widget-view+json": {
       "model_id": "3d417140bfff48428987172f95b05565",
       "version_major": 2,
       "version_minor": 0
      },
      "text/plain": [
       "IntText(value=0, description='Min_Genes:')"
      ]
     },
     "metadata": {},
     "output_type": "display_data"
    },
    {
     "data": {
      "application/vnd.jupyter.widget-view+json": {
       "model_id": "650e5ffcdbd044c2a8c037b3840b360b",
       "version_major": 2,
       "version_minor": 0
      },
      "text/plain": [
       "IntText(value=0, description='Min_Cells:')"
      ]
     },
     "metadata": {},
     "output_type": "display_data"
    },
    {
     "data": {
      "application/vnd.jupyter.widget-view+json": {
       "model_id": "da463009eb0348edaced11b30200e273",
       "version_major": 2,
       "version_minor": 0
      },
      "text/plain": [
       "Button(description='Filter_Save', style=ButtonStyle())"
      ]
     },
     "metadata": {},
     "output_type": "display_data"
    },
    {
     "data": {
      "application/vnd.jupyter.widget-view+json": {
       "model_id": "65f9a2217c714c79b6d3737cf2c471bf",
       "version_major": 2,
       "version_minor": 0
      },
      "text/plain": [
       "HTML(value='<p>Time passed away: 0 seconds</p>')"
      ]
     },
     "metadata": {},
     "output_type": "display_data"
    },
    {
     "name": "stdout",
     "output_type": "stream",
     "text": [
      "Filtered dataset saved to D:\\Single_cell\\cerebellar_development\\508cf892-174c-45ab-b2dc-05f54f1ee7ed\\pbmc_filtered.h5ad\n"
     ]
    }
   ],
   "source": [
    "# updated version: h5ad filter, added layers to make the filtered file usable for seurat to read and make a correct seurat object\n",
    "#https://github.com/satijalab/seurat/issues/2485\n",
    "\n",
    "import scanpy as sc\n",
    "import numpy as np\n",
    "import pandas as pd\n",
    "import time\n",
    "from ipywidgets import interact, interactive, widgets\n",
    "from IPython.display import display, HTML\n",
    "\n",
    "def filter_and_save_h5ad(h5ad_file, min_genes, min_cells):\n",
    "    # h5ad file read\n",
    "    adata = sc.read_h5ad(h5ad_file)\n",
    "\n",
    "    # cells and genes filter parameter from user\n",
    "    sc.pp.filter_cells(adata, min_genes=min_genes)\n",
    "    sc.pp.filter_genes(adata, min_cells=min_cells)\n",
    "\n",
    "    # Add 'counts' layer\n",
    "    adata.layers['counts'] = adata.X.copy()\n",
    "\n",
    "    # add 'winsorization' layer\n",
    "    adata.layers['winsorized'] = adata.X.copy()\n",
    "\n",
    "\n",
    "    # filtered dataset save\n",
    "    filtered_file = h5ad_file.replace('.h5ad', '_filtered.h5ad')\n",
    "    adata.write(filtered_file)\n",
    "\n",
    "    print(f\"Filtered dataset saved to {filtered_file}\")\n",
    "\n",
    "# input widgets\n",
    "h5ad_file_widget = widgets.Text(description='File_add:')\n",
    "min_genes_widget = widgets.IntText(description='Min_Genes:')\n",
    "min_cells_widget = widgets.IntText(description='Min_Cells:')\n",
    "button = widgets.Button(description='Filter_Save')\n",
    "\n",
    "# timer widget\n",
    "time_widget = widgets.HTML(value=\"<p>Time passed away: 0 seconds</p>\")\n",
    "\n",
    "def on_button_clicked(click_me):\n",
    "    h5ad_file = h5ad_file_widget.value.strip()\n",
    "    min_genes = min_genes_widget.value\n",
    "    min_cells = min_cells_widget.value\n",
    "    \n",
    "    # timer\n",
    "    start_time = time.time()\n",
    "    \n",
    "    filter_and_save_h5ad(h5ad_file, min_genes, min_cells)\n",
    "    \n",
    "    # Calculate and update the elapsed time\n",
    "    elapsed_time = time.time() - start_time\n",
    "    time_widget.value = f\"<p>Time passed away: {elapsed_time} seconds</p>\"\n",
    "\n",
    "button.on_click(on_button_clicked)\n",
    "\n",
    "# Display the widgets and button\n",
    "display(h5ad_file_widget, min_genes_widget, min_cells_widget, button, time_widget)\n"
   ]
  }
 ],
 "metadata": {
  "kernelspec": {
   "display_name": "Python 3",
   "language": "python",
   "name": "python3"
  },
  "language_info": {
   "codemirror_mode": {
    "name": "ipython",
    "version": 3
   },
   "file_extension": ".py",
   "mimetype": "text/x-python",
   "name": "python",
   "nbconvert_exporter": "python",
   "pygments_lexer": "ipython3",
   "version": "3.10.9"
  },
  "orig_nbformat": 4
 },
 "nbformat": 4,
 "nbformat_minor": 2
}
