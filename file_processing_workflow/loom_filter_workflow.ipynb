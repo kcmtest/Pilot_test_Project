{
 "cells": [
  {
   "cell_type": "code",
   "execution_count": 1,
   "metadata": {},
   "outputs": [
    {
     "name": "stderr",
     "output_type": "stream",
     "text": [
      "c:\\Users\\DELL\\AppData\\Local\\Programs\\Python\\Python310\\lib\\site-packages\\loompy\\bus_file.py:68: NumbaDeprecationWarning: \u001b[1mThe 'nopython' keyword argument was not supplied to the 'numba.jit' decorator. The implicit default value for this argument is currently False, but it will be changed to True in Numba 0.59.0. See https://numba.readthedocs.io/en/stable/reference/deprecation.html#deprecation-of-object-mode-fall-back-behaviour-when-using-jit for details.\u001b[0m\n",
      "  def twobit_to_dna(twobit: int, size: int) -> str:\n",
      "c:\\Users\\DELL\\AppData\\Local\\Programs\\Python\\Python310\\lib\\site-packages\\loompy\\bus_file.py:85: NumbaDeprecationWarning: \u001b[1mThe 'nopython' keyword argument was not supplied to the 'numba.jit' decorator. The implicit default value for this argument is currently False, but it will be changed to True in Numba 0.59.0. See https://numba.readthedocs.io/en/stable/reference/deprecation.html#deprecation-of-object-mode-fall-back-behaviour-when-using-jit for details.\u001b[0m\n",
      "  def dna_to_twobit(dna: str) -> int:\n",
      "c:\\Users\\DELL\\AppData\\Local\\Programs\\Python\\Python310\\lib\\site-packages\\loompy\\bus_file.py:102: NumbaDeprecationWarning: \u001b[1mThe 'nopython' keyword argument was not supplied to the 'numba.jit' decorator. The implicit default value for this argument is currently False, but it will be changed to True in Numba 0.59.0. See https://numba.readthedocs.io/en/stable/reference/deprecation.html#deprecation-of-object-mode-fall-back-behaviour-when-using-jit for details.\u001b[0m\n",
      "  def twobit_1hamming(twobit: int, size: int) -> List[int]:\n"
     ]
    },
    {
     "data": {
      "application/vnd.jupyter.widget-view+json": {
       "model_id": "77b144b54b7947f490c1d0207524b7f4",
       "version_major": 2,
       "version_minor": 0
      },
      "text/plain": [
       "Text(value='', description='Loom File:')"
      ]
     },
     "metadata": {},
     "output_type": "display_data"
    },
    {
     "data": {
      "application/vnd.jupyter.widget-view+json": {
       "model_id": "6a2fd6bd29f342d5994e84ba962858cd",
       "version_major": 2,
       "version_minor": 0
      },
      "text/plain": [
       "IntText(value=0, description='Min Genes:')"
      ]
     },
     "metadata": {},
     "output_type": "display_data"
    },
    {
     "data": {
      "application/vnd.jupyter.widget-view+json": {
       "model_id": "0783053efff445f690f31cbaaf03f1de",
       "version_major": 2,
       "version_minor": 0
      },
      "text/plain": [
       "IntText(value=0, description='Min Cells:')"
      ]
     },
     "metadata": {},
     "output_type": "display_data"
    },
    {
     "data": {
      "application/vnd.jupyter.widget-view+json": {
       "model_id": "5ade5664b2304565913a97b8727c0b36",
       "version_major": 2,
       "version_minor": 0
      },
      "text/plain": [
       "Button(description='Filter and Save', style=ButtonStyle())"
      ]
     },
     "metadata": {},
     "output_type": "display_data"
    },
    {
     "ename": "AttributeError",
     "evalue": "'LoomConnection' object has no attribute 'filter_cells'",
     "output_type": "error",
     "traceback": [
      "\u001b[1;31m---------------------------------------------------------------------------\u001b[0m",
      "\u001b[1;31mAttributeError\u001b[0m                            Traceback (most recent call last)",
      "Cell \u001b[1;32mIn[1], line 28\u001b[0m, in \u001b[0;36mon_button_clicked\u001b[1;34m(b)\u001b[0m\n\u001b[0;32m     26\u001b[0m min_genes \u001b[39m=\u001b[39m min_genes_widget\u001b[39m.\u001b[39mvalue\n\u001b[0;32m     27\u001b[0m min_cells \u001b[39m=\u001b[39m min_cells_widget\u001b[39m.\u001b[39mvalue\n\u001b[1;32m---> 28\u001b[0m filter_and_save_loom(loom_file, min_genes, min_cells)\n",
      "Cell \u001b[1;32mIn[1], line 8\u001b[0m, in \u001b[0;36mfilter_and_save_loom\u001b[1;34m(loom_file, min_genes, min_cells)\u001b[0m\n\u001b[0;32m      4\u001b[0m \u001b[39mdef\u001b[39;00m \u001b[39mfilter_and_save_loom\u001b[39m(loom_file, min_genes, min_cells):\n\u001b[0;32m      5\u001b[0m     \u001b[39m# Read loom file\u001b[39;00m\n\u001b[0;32m      6\u001b[0m     \u001b[39mwith\u001b[39;00m loompy\u001b[39m.\u001b[39mconnect(loom_file) \u001b[39mas\u001b[39;00m ds:\n\u001b[0;32m      7\u001b[0m         \u001b[39m# Filter cells and genes\u001b[39;00m\n\u001b[1;32m----> 8\u001b[0m         ds\u001b[39m.\u001b[39;49mfilter_cells(ds\u001b[39m.\u001b[39mmap[\u001b[39m0\u001b[39m]\u001b[39m.\u001b[39msum() \u001b[39m>\u001b[39m\u001b[39m=\u001b[39m min_genes)\n\u001b[0;32m      9\u001b[0m         ds\u001b[39m.\u001b[39mfilter_genes(ds\u001b[39m.\u001b[39mmap[:, \u001b[39m0\u001b[39m]\u001b[39m.\u001b[39msum() \u001b[39m>\u001b[39m\u001b[39m=\u001b[39m min_cells)\n\u001b[0;32m     11\u001b[0m         \u001b[39m# Save filtered dataset\u001b[39;00m\n",
      "\u001b[1;31mAttributeError\u001b[0m: 'LoomConnection' object has no attribute 'filter_cells'"
     ]
    }
   ],
   "source": [
    "import loompy\n",
    "from ipywidgets import widgets\n",
    "\n",
    "def filter_and_save_loom(loom_file, min_genes, min_cells):\n",
    "    # Read loom file\n",
    "    with loompy.connect(loom_file) as ds:\n",
    "        # Filter cells and genes\n",
    "        ds.filter_cells(ds.map[0].sum() >= min_genes)\n",
    "        ds.filter_genes(ds.map[:, 0].sum() >= min_cells)\n",
    "\n",
    "        # Save filtered dataset\n",
    "        filtered_file = loom_file.replace('.loom', '_filtered.loom')\n",
    "        ds.to_hdf5(filtered_file)\n",
    "\n",
    "    print(f\"Filtered dataset saved to {filtered_file}\")\n",
    "\n",
    "# Create interactive input widgets\n",
    "loom_file_widget = widgets.Text(description='Loom File:')\n",
    "min_genes_widget = widgets.IntText(description='Min Genes:')\n",
    "min_cells_widget = widgets.IntText(description='Min Cells:')\n",
    "button = widgets.Button(description='Filter and Save')\n",
    "\n",
    "# Function to execute when button is clicked\n",
    "def on_button_clicked(b):\n",
    "    loom_file = loom_file_widget.value.strip()\n",
    "    min_genes = min_genes_widget.value\n",
    "    min_cells = min_cells_widget.value\n",
    "    filter_and_save_loom(loom_file, min_genes, min_cells)\n",
    "\n",
    "button.on_click(on_button_clicked)\n",
    "\n",
    "# Display the widgets and button\n",
    "display(loom_file_widget, min_genes_widget, min_cells_widget, button)\n"
   ]
  },
  {
   "cell_type": "code",
   "execution_count": 4,
   "metadata": {},
   "outputs": [
    {
     "data": {
      "application/vnd.jupyter.widget-view+json": {
       "model_id": "f7e2b86fa44c41d2ac4c1cd2e06940cf",
       "version_major": 2,
       "version_minor": 0
      },
      "text/plain": [
       "Text(value='', description='AnnData File:')"
      ]
     },
     "metadata": {},
     "output_type": "display_data"
    },
    {
     "data": {
      "application/vnd.jupyter.widget-view+json": {
       "model_id": "b983e29ba43343749352ba29d8961adc",
       "version_major": 2,
       "version_minor": 0
      },
      "text/plain": [
       "IntText(value=0, description='Min Genes:')"
      ]
     },
     "metadata": {},
     "output_type": "display_data"
    },
    {
     "data": {
      "application/vnd.jupyter.widget-view+json": {
       "model_id": "c740ae5b77ed49eda7058c177b46e2a4",
       "version_major": 2,
       "version_minor": 0
      },
      "text/plain": [
       "IntText(value=0, description='Min Cells:')"
      ]
     },
     "metadata": {},
     "output_type": "display_data"
    },
    {
     "data": {
      "application/vnd.jupyter.widget-view+json": {
       "model_id": "674914cd09ad4153b97f66c36c182128",
       "version_major": 2,
       "version_minor": 0
      },
      "text/plain": [
       "Button(description='Filter and Save', style=ButtonStyle())"
      ]
     },
     "metadata": {},
     "output_type": "display_data"
    },
    {
     "ename": "TypeError",
     "evalue": "connect() got an unexpected keyword argument 'file_format'",
     "output_type": "error",
     "traceback": [
      "\u001b[1;31m---------------------------------------------------------------------------\u001b[0m",
      "\u001b[1;31mTypeError\u001b[0m                                 Traceback (most recent call last)",
      "Cell \u001b[1;32mIn[4], line 34\u001b[0m, in \u001b[0;36mon_button_clicked\u001b[1;34m(b)\u001b[0m\n\u001b[0;32m     31\u001b[0m min_cells \u001b[39m=\u001b[39m min_cells_widget\u001b[39m.\u001b[39mvalue\n\u001b[0;32m     33\u001b[0m \u001b[39m# Read the AnnData file\u001b[39;00m\n\u001b[1;32m---> 34\u001b[0m adata \u001b[39m=\u001b[39m sc\u001b[39m.\u001b[39;49mread_loom(adata_file, file_format\u001b[39m=\u001b[39;49m\u001b[39m'\u001b[39;49m\u001b[39mloom\u001b[39;49m\u001b[39m'\u001b[39;49m)\n\u001b[0;32m     36\u001b[0m \u001b[39m# Perform filtering and save the filtered dataset\u001b[39;00m\n\u001b[0;32m     37\u001b[0m filter_and_save_loom(adata, min_genes, min_cells)\n",
      "File \u001b[1;32mc:\\Users\\DELL\\AppData\\Local\\Programs\\Python\\Python310\\lib\\site-packages\\anndata\\compat\\__init__.py:305\u001b[0m, in \u001b[0;36m_deprecate_positional_args.<locals>._inner_deprecate_positional_args.<locals>.inner_f\u001b[1;34m(*args, **kwargs)\u001b[0m\n\u001b[0;32m    303\u001b[0m extra_args \u001b[39m=\u001b[39m \u001b[39mlen\u001b[39m(args) \u001b[39m-\u001b[39m \u001b[39mlen\u001b[39m(all_args)\n\u001b[0;32m    304\u001b[0m \u001b[39mif\u001b[39;00m extra_args \u001b[39m<\u001b[39m\u001b[39m=\u001b[39m \u001b[39m0\u001b[39m:\n\u001b[1;32m--> 305\u001b[0m     \u001b[39mreturn\u001b[39;00m f(\u001b[39m*\u001b[39margs, \u001b[39m*\u001b[39m\u001b[39m*\u001b[39mkwargs)\n\u001b[0;32m    307\u001b[0m \u001b[39m# extra_args > 0\u001b[39;00m\n\u001b[0;32m    308\u001b[0m args_msg \u001b[39m=\u001b[39m [\n\u001b[0;32m    309\u001b[0m     \u001b[39m\"\u001b[39m\u001b[39m{}\u001b[39;00m\u001b[39m=\u001b[39m\u001b[39m{}\u001b[39;00m\u001b[39m\"\u001b[39m\u001b[39m.\u001b[39mformat(name, arg)\n\u001b[0;32m    310\u001b[0m     \u001b[39mfor\u001b[39;00m name, arg \u001b[39min\u001b[39;00m \u001b[39mzip\u001b[39m(kwonly_args[:extra_args], args[\u001b[39m-\u001b[39mextra_args:])\n\u001b[0;32m    311\u001b[0m ]\n",
      "File \u001b[1;32mc:\\Users\\DELL\\AppData\\Local\\Programs\\Python\\Python310\\lib\\site-packages\\anndata\\_io\\read.py:251\u001b[0m, in \u001b[0;36mread_loom\u001b[1;34m(filename, sparse, cleanup, X_name, obs_names, obsm_names, var_names, varm_names, dtype, obsm_mapping, varm_mapping, **kwargs)\u001b[0m\n\u001b[0;32m    248\u001b[0m filename \u001b[39m=\u001b[39m fspath(filename)  \u001b[39m# allow passing pathlib.Path objects\u001b[39;00m\n\u001b[0;32m    249\u001b[0m \u001b[39mfrom\u001b[39;00m \u001b[39mloompy\u001b[39;00m \u001b[39mimport\u001b[39;00m connect\n\u001b[1;32m--> 251\u001b[0m \u001b[39mwith\u001b[39;00m connect(filename, \u001b[39m\"\u001b[39m\u001b[39mr\u001b[39m\u001b[39m\"\u001b[39m, \u001b[39m*\u001b[39m\u001b[39m*\u001b[39mkwargs) \u001b[39mas\u001b[39;00m lc:\n\u001b[0;32m    252\u001b[0m     \u001b[39mif\u001b[39;00m X_name \u001b[39mnot\u001b[39;00m \u001b[39min\u001b[39;00m lc\u001b[39m.\u001b[39mlayers\u001b[39m.\u001b[39mkeys():\n\u001b[0;32m    253\u001b[0m         X_name \u001b[39m=\u001b[39m \u001b[39m\"\u001b[39m\u001b[39m\"\u001b[39m\n",
      "\u001b[1;31mTypeError\u001b[0m: connect() got an unexpected keyword argument 'file_format'"
     ]
    }
   ],
   "source": [
    "import scanpy as sc\n",
    "import numpy as np\n",
    "import pandas as pd\n",
    "import matplotlib.pyplot as plt\n",
    "from ipywidgets import interact, interactive, widgets\n",
    "\n",
    "def filter_and_save_loom(adata, min_genes, min_cells):\n",
    "    # Filter cells based on the number of genes\n",
    "    sc.pp.filter_cells(adata, min_genes=min_genes)\n",
    "\n",
    "    # Filter genes based on the number of cells\n",
    "    sc.pp.filter_genes(adata, min_cells=min_cells)\n",
    "\n",
    "    # Save the filtered dataset\n",
    "    filtered_file = adata.filename.replace('.loom', '_filtered.loom')\n",
    "    adata.write(filtered_file, file_format='loom')\n",
    "\n",
    "    print(f\"Filtered dataset saved to {filtered_file}\")\n",
    "\n",
    "\n",
    "# Create interactive input widgets\n",
    "adata_file_widget = widgets.Text(description='AnnData File:')\n",
    "min_genes_widget = widgets.IntText(description='Min Genes:')\n",
    "min_cells_widget = widgets.IntText(description='Min Cells:')\n",
    "button = widgets.Button(description='Filter and Save')\n",
    "\n",
    "# Function to execute when button is clicked\n",
    "def on_button_clicked(b):\n",
    "    adata_file = adata_file_widget.value.strip()\n",
    "    min_genes = min_genes_widget.value\n",
    "    min_cells = min_cells_widget.value\n",
    "\n",
    "    # Read the AnnData file\n",
    "    adata = sc.read_loom(adata_file, file_format='loom')\n",
    "\n",
    "    # Perform filtering and save the filtered dataset\n",
    "    filter_and_save_loom(adata, min_genes, min_cells)\n",
    "\n",
    "button.on_click(on_button_clicked)\n",
    "\n",
    "# Display the widgets and button\n",
    "display(adata_file_widget, min_genes_widget, min_cells_widget, button)\n"
   ]
  },
  {
   "cell_type": "code",
   "execution_count": 5,
   "metadata": {},
   "outputs": [
    {
     "data": {
      "application/vnd.jupyter.widget-view+json": {
       "model_id": "20454db330564dc0b61b6c60b947842f",
       "version_major": 2,
       "version_minor": 0
      },
      "text/plain": [
       "Text(value='', description='loom File:')"
      ]
     },
     "metadata": {},
     "output_type": "display_data"
    },
    {
     "data": {
      "application/vnd.jupyter.widget-view+json": {
       "model_id": "f0dc02e016c847fabefb4b1ec603b703",
       "version_major": 2,
       "version_minor": 0
      },
      "text/plain": [
       "IntText(value=0, description='Min Genes:')"
      ]
     },
     "metadata": {},
     "output_type": "display_data"
    },
    {
     "data": {
      "application/vnd.jupyter.widget-view+json": {
       "model_id": "02e1b36767d248e897aaf080d589667c",
       "version_major": 2,
       "version_minor": 0
      },
      "text/plain": [
       "IntText(value=0, description='Min Cells:')"
      ]
     },
     "metadata": {},
     "output_type": "display_data"
    },
    {
     "data": {
      "application/vnd.jupyter.widget-view+json": {
       "model_id": "30b23879e8594cadb15e1e78542859c4",
       "version_major": 2,
       "version_minor": 0
      },
      "text/plain": [
       "Button(description='Filter and Save', style=ButtonStyle())"
      ]
     },
     "metadata": {},
     "output_type": "display_data"
    },
    {
     "name": "stderr",
     "output_type": "stream",
     "text": [
      "c:\\Users\\DELL\\AppData\\Local\\Programs\\Python\\Python310\\lib\\site-packages\\anndata\\_core\\anndata.py:1830: UserWarning: Variable names are not unique. To make them unique, call `.var_names_make_unique`.\n",
      "  utils.warn_names_duplicates(\"var\")\n",
      "c:\\Users\\DELL\\AppData\\Local\\Programs\\Python\\Python310\\lib\\site-packages\\anndata\\_core\\anndata.py:1830: UserWarning: Variable names are not unique. To make them unique, call `.var_names_make_unique`.\n",
      "  utils.warn_names_duplicates(\"var\")\n"
     ]
    },
    {
     "name": "stdout",
     "output_type": "stream",
     "text": [
      "Filtered dataset saved to D:\\Single_cell\\kidney\\2d9430d0-9d18-55d6-9ff0-089e2d981f0c\\19383f56-34e5-4963-aa2e-6368361e6903_filtered.loom\n"
     ]
    },
    {
     "name": "stderr",
     "output_type": "stream",
     "text": [
      "c:\\Users\\DELL\\AppData\\Local\\Programs\\Python\\Python310\\lib\\site-packages\\anndata\\_core\\anndata.py:1828: UserWarning: Observation names are not unique. To make them unique, call `.obs_names_make_unique`.\n",
      "  utils.warn_names_duplicates(\"obs\")\n",
      "c:\\Users\\DELL\\AppData\\Local\\Programs\\Python\\Python310\\lib\\site-packages\\anndata\\_core\\anndata.py:1830: UserWarning: Variable names are not unique. To make them unique, call `.var_names_make_unique`.\n",
      "  utils.warn_names_duplicates(\"var\")\n",
      "c:\\Users\\DELL\\AppData\\Local\\Programs\\Python\\Python310\\lib\\site-packages\\anndata\\_core\\anndata.py:1828: UserWarning: Observation names are not unique. To make them unique, call `.obs_names_make_unique`.\n",
      "  utils.warn_names_duplicates(\"obs\")\n",
      "c:\\Users\\DELL\\AppData\\Local\\Programs\\Python\\Python310\\lib\\site-packages\\anndata\\_core\\anndata.py:1830: UserWarning: Variable names are not unique. To make them unique, call `.var_names_make_unique`.\n",
      "  utils.warn_names_duplicates(\"var\")\n"
     ]
    },
    {
     "name": "stdout",
     "output_type": "stream",
     "text": [
      "Filtered dataset saved to D:\\Single_cell\\kidney\\51b7ad62-9f03-5ee1-99a3-e6eb4d54c713\\normal-liao-mo-human-kidney-10XV2_filtered.loom\n"
     ]
    },
    {
     "name": "stderr",
     "output_type": "stream",
     "text": [
      "c:\\Users\\DELL\\AppData\\Local\\Programs\\Python\\Python310\\lib\\site-packages\\anndata\\_core\\anndata.py:1830: UserWarning: Variable names are not unique. To make them unique, call `.var_names_make_unique`.\n",
      "  utils.warn_names_duplicates(\"var\")\n",
      "c:\\Users\\DELL\\AppData\\Local\\Programs\\Python\\Python310\\lib\\site-packages\\anndata\\_core\\anndata.py:1830: UserWarning: Variable names are not unique. To make them unique, call `.var_names_make_unique`.\n",
      "  utils.warn_names_duplicates(\"var\")\n"
     ]
    },
    {
     "name": "stdout",
     "output_type": "stream",
     "text": [
      "Filtered dataset saved to D:\\Single_cell\\kidney\\8911c4d5-ddbd-5d9b-8543-c773356386f3\\acedb827-5995-427d-a574-ff89c3764014_filtered.loom\n"
     ]
    },
    {
     "name": "stderr",
     "output_type": "stream",
     "text": [
      "c:\\Users\\DELL\\AppData\\Local\\Programs\\Python\\Python310\\lib\\site-packages\\anndata\\_core\\anndata.py:1830: UserWarning: Variable names are not unique. To make them unique, call `.var_names_make_unique`.\n",
      "  utils.warn_names_duplicates(\"var\")\n",
      "c:\\Users\\DELL\\AppData\\Local\\Programs\\Python\\Python310\\lib\\site-packages\\anndata\\_core\\anndata.py:1830: UserWarning: Variable names are not unique. To make them unique, call `.var_names_make_unique`.\n",
      "  utils.warn_names_duplicates(\"var\")\n"
     ]
    },
    {
     "name": "stdout",
     "output_type": "stream",
     "text": [
      "Filtered dataset saved to D:\\Single_cell\\kidney\\ee80d2e9-76e9-53eb-9d5d-d76b527ddc47\\b1beb840-7520-4262-99c0-3e272883e75f_filtered.loom\n"
     ]
    }
   ],
   "source": [
    "import scanpy as sc\n",
    "import loompy\n",
    "import matplotlib.pyplot as plt\n",
    "import numpy as np\n",
    "import pandas as pd\n",
    "from ipywidgets import interact, interactive, widgets\n",
    "\n",
    "def filter_and_save_h5ad(h5ad_file, min_genes, min_cells):\n",
    "    # Read H5AD file\n",
    "    adata = sc.read_loom(h5ad_file)\n",
    "\n",
    "    # Filter cells and genes\n",
    "    sc.pp.filter_cells(adata, min_genes=min_genes)\n",
    "    sc.pp.filter_genes(adata, min_cells=min_cells)\n",
    "\n",
    "    # Save filtered dataset\n",
    "    filtered_file = h5ad_file.replace('.loom', '_filtered.loom')\n",
    "    adata.write(filtered_file)\n",
    "\n",
    "    print(f\"Filtered dataset saved to {filtered_file}\")\n",
    "\n",
    "# Create interactive input widgets\n",
    "h5ad_file_widget = widgets.Text(description='loom File:')\n",
    "min_genes_widget = widgets.IntText(description='Min Genes:')\n",
    "min_cells_widget = widgets.IntText(description='Min Cells:')\n",
    "button = widgets.Button(description='Filter and Save')\n",
    "\n",
    "# Function to execute when button is clicked\n",
    "def on_button_clicked(b):\n",
    "    h5ad_file = h5ad_file_widget.value.strip()\n",
    "    min_genes = min_genes_widget.value\n",
    "    min_cells = min_cells_widget.value\n",
    "    filter_and_save_h5ad(h5ad_file, min_genes, min_cells)\n",
    "\n",
    "button.on_click(on_button_clicked)\n",
    "\n",
    "# Display the widgets and button\n",
    "display(h5ad_file_widget, min_genes_widget, min_cells_widget, button)\n",
    "\n"
   ]
  },
  {
   "cell_type": "code",
   "execution_count": 1,
   "metadata": {},
   "outputs": [
    {
     "name": "stderr",
     "output_type": "stream",
     "text": [
      "c:\\Users\\DELL\\AppData\\Local\\Programs\\Python\\Python310\\lib\\site-packages\\loompy\\bus_file.py:68: NumbaDeprecationWarning: \u001b[1mThe 'nopython' keyword argument was not supplied to the 'numba.jit' decorator. The implicit default value for this argument is currently False, but it will be changed to True in Numba 0.59.0. See https://numba.readthedocs.io/en/stable/reference/deprecation.html#deprecation-of-object-mode-fall-back-behaviour-when-using-jit for details.\u001b[0m\n",
      "  def twobit_to_dna(twobit: int, size: int) -> str:\n",
      "c:\\Users\\DELL\\AppData\\Local\\Programs\\Python\\Python310\\lib\\site-packages\\loompy\\bus_file.py:85: NumbaDeprecationWarning: \u001b[1mThe 'nopython' keyword argument was not supplied to the 'numba.jit' decorator. The implicit default value for this argument is currently False, but it will be changed to True in Numba 0.59.0. See https://numba.readthedocs.io/en/stable/reference/deprecation.html#deprecation-of-object-mode-fall-back-behaviour-when-using-jit for details.\u001b[0m\n",
      "  def dna_to_twobit(dna: str) -> int:\n",
      "c:\\Users\\DELL\\AppData\\Local\\Programs\\Python\\Python310\\lib\\site-packages\\loompy\\bus_file.py:102: NumbaDeprecationWarning: \u001b[1mThe 'nopython' keyword argument was not supplied to the 'numba.jit' decorator. The implicit default value for this argument is currently False, but it will be changed to True in Numba 0.59.0. See https://numba.readthedocs.io/en/stable/reference/deprecation.html#deprecation-of-object-mode-fall-back-behaviour-when-using-jit for details.\u001b[0m\n",
      "  def twobit_1hamming(twobit: int, size: int) -> List[int]:\n"
     ]
    },
    {
     "data": {
      "application/vnd.jupyter.widget-view+json": {
       "model_id": "3ad65eb8186c438fa36ba52ee8251735",
       "version_major": 2,
       "version_minor": 0
      },
      "text/plain": [
       "Text(value='', description='Loom File:')"
      ]
     },
     "metadata": {},
     "output_type": "display_data"
    },
    {
     "data": {
      "application/vnd.jupyter.widget-view+json": {
       "model_id": "0059392ad2914a238fa296fa23bb61ce",
       "version_major": 2,
       "version_minor": 0
      },
      "text/plain": [
       "IntText(value=0, description='Min Genes:')"
      ]
     },
     "metadata": {},
     "output_type": "display_data"
    },
    {
     "data": {
      "application/vnd.jupyter.widget-view+json": {
       "model_id": "7ba413772b1348849779ae58c25f38b6",
       "version_major": 2,
       "version_minor": 0
      },
      "text/plain": [
       "IntText(value=0, description='Min Cells:')"
      ]
     },
     "metadata": {},
     "output_type": "display_data"
    },
    {
     "data": {
      "application/vnd.jupyter.widget-view+json": {
       "model_id": "4b2b0f5300aa4c4ba815145008b2fd54",
       "version_major": 2,
       "version_minor": 0
      },
      "text/plain": [
       "Button(description='Filter and Save', style=ButtonStyle())"
      ]
     },
     "metadata": {},
     "output_type": "display_data"
    },
    {
     "name": "stderr",
     "output_type": "stream",
     "text": [
      "c:\\Users\\DELL\\AppData\\Local\\Programs\\Python\\Python310\\lib\\site-packages\\anndata\\_core\\anndata.py:1828: UserWarning: Observation names are not unique. To make them unique, call `.obs_names_make_unique`.\n",
      "  utils.warn_names_duplicates(\"obs\")\n",
      "c:\\Users\\DELL\\AppData\\Local\\Programs\\Python\\Python310\\lib\\site-packages\\anndata\\_core\\anndata.py:1830: UserWarning: Variable names are not unique. To make them unique, call `.var_names_make_unique`.\n",
      "  utils.warn_names_duplicates(\"var\")\n",
      "c:\\Users\\DELL\\AppData\\Local\\Programs\\Python\\Python310\\lib\\site-packages\\anndata\\utils.py:111: UserWarning: Suffix used (-[0-9]+) to deduplicate index values may make index values difficult to interpret. There values with a similar suffixes in the index. Consider using a different delimiter by passing `join={delimiter}`Example key collisions generated by the make_index_unique algorithm: ['SNORD116-1', 'SNORD116-2', 'SNORD116-3', 'SNORD116-4', 'SNORD116-5']\n",
      "  warnings.warn(\n",
      "c:\\Users\\DELL\\AppData\\Local\\Programs\\Python\\Python310\\lib\\site-packages\\anndata\\_core\\anndata.py:1828: UserWarning: Observation names are not unique. To make them unique, call `.obs_names_make_unique`.\n",
      "  utils.warn_names_duplicates(\"obs\")\n"
     ]
    },
    {
     "name": "stdout",
     "output_type": "stream",
     "text": [
      "Filtered dataset saved to D:\\Single_cell\\kidney\\51b7ad62-9f03-5ee1-99a3-e6eb4d54c713\\normal-liao-mo-human-kidney-10XV2_filtered.loom\n"
     ]
    },
    {
     "name": "stderr",
     "output_type": "stream",
     "text": [
      "c:\\Users\\DELL\\AppData\\Local\\Programs\\Python\\Python310\\lib\\site-packages\\anndata\\_core\\anndata.py:1830: UserWarning: Variable names are not unique. To make them unique, call `.var_names_make_unique`.\n",
      "  utils.warn_names_duplicates(\"var\")\n",
      "c:\\Users\\DELL\\AppData\\Local\\Programs\\Python\\Python310\\lib\\site-packages\\anndata\\utils.py:111: UserWarning: Suffix used (-[0-9]+) to deduplicate index values may make index values difficult to interpret. There values with a similar suffixes in the index. Consider using a different delimiter by passing `join={delimiter}`Example key collisions generated by the make_index_unique algorithm: ['SNORD116-1', 'SNORD116-2', 'SNORD116-3', 'SNORD116-4', 'SNORD116-5']\n",
      "  warnings.warn(\n"
     ]
    },
    {
     "name": "stdout",
     "output_type": "stream",
     "text": [
      "Filtered dataset saved to D:\\Single_cell\\kidney\\2d9430d0-9d18-55d6-9ff0-089e2d981f0c\\19383f56-34e5-4963-aa2e-6368361e6903_filtered.loom\n"
     ]
    }
   ],
   "source": [
    "import scanpy as sc\n",
    "import loompy\n",
    "import matplotlib.pyplot as plt\n",
    "import numpy as np\n",
    "import pandas as pd\n",
    "from ipywidgets import interact, interactive, widgets\n",
    "\n",
    "def filter_and_save_h5ad(h5ad_file, min_genes, min_cells):\n",
    "    # Read H5AD file\n",
    "    adata = sc.read_loom(h5ad_file)\n",
    "\n",
    "    # Make variable names unique\n",
    "    adata.var_names_make_unique()\n",
    "\n",
    "    # Filter cells and genes\n",
    "    sc.pp.filter_cells(adata, min_genes=min_genes)\n",
    "    sc.pp.filter_genes(adata, min_cells=min_cells)\n",
    "\n",
    "    # Save filtered dataset\n",
    "    filtered_file = h5ad_file.replace('.loom', '_filtered.loom')\n",
    "    adata.write_loom(filtered_file)\n",
    "\n",
    "    print(f\"Filtered dataset saved to {filtered_file}\")\n",
    "\n",
    "# Create interactive input widgets\n",
    "h5ad_file_widget = widgets.Text(description='Loom File:')\n",
    "min_genes_widget = widgets.IntText(description='Min Genes:')\n",
    "min_cells_widget = widgets.IntText(description='Min Cells:')\n",
    "button = widgets.Button(description='Filter and Save')\n",
    "\n",
    "# Function to execute when button is clicked\n",
    "def on_button_clicked(b):\n",
    "    h5ad_file = h5ad_file_widget.value.strip()\n",
    "    min_genes = min_genes_widget.value\n",
    "    min_cells = min_cells_widget.value\n",
    "    filter_and_save_h5ad(h5ad_file, min_genes, min_cells)\n",
    "\n",
    "button.on_click(on_button_clicked)\n",
    "\n",
    "# Display the widgets and button\n",
    "display(h5ad_file_widget, min_genes_widget, min_cells_widget, button)\n",
    "\n",
    "\n"
   ]
  }
 ],
 "metadata": {
  "kernelspec": {
   "display_name": "Pilot_python_3_10",
   "language": "python",
   "name": "python3"
  },
  "language_info": {
   "codemirror_mode": {
    "name": "ipython",
    "version": 3
   },
   "file_extension": ".py",
   "mimetype": "text/x-python",
   "name": "python",
   "nbconvert_exporter": "python",
   "pygments_lexer": "ipython3",
   "version": "3.10.9"
  },
  "orig_nbformat": 4
 },
 "nbformat": 4,
 "nbformat_minor": 2
}
